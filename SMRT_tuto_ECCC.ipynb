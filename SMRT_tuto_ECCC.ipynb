{
 "cells": [
  {
   "cell_type": "markdown",
   "id": "9195e8a9-23d3-4cc4-9371-33e83d02bcaf",
   "metadata": {},
   "source": [
    "# SMRT tutorial for ECCC\n",
    "\n",
    "\n",
    "***\n",
    "##### by Julien Meloche \n",
    "\n"
   ]
  },
  {
   "cell_type": "markdown",
   "id": "9a5b2538-e706-466a-b24c-e09cb2f4af4d",
   "metadata": {},
   "source": [
    "# Snow Microwave Radiative Tranfer (SMRT) model\n",
    "\n"
   ]
  },
  {
   "cell_type": "markdown",
   "id": "23e32209-6679-494e-8f5a-3fa17fab7d12",
   "metadata": {},
   "source": [
    "\n",
    "\n",
    "Amazing work from Ghislain Picard, Melody Sandells and Henning Löwe!\n",
    "\n",
    "- Build on previous knowledge on radiative transfer modelling (DMRT and MEMLS)\n",
    "- Allows for intercomparison of different model elements: electromagnetic theory, microstructure, ice permittivity and much more!\n",
    "- Modularity (we keep adding more stuff!)\n",
    "- Written in Python\n",
    "\n",
    "At ECCC\n",
    "\n",
    "We will mainly use it to estimate backscatter from snow properties."
   ]
  },
  {
   "cell_type": "markdown",
   "id": "8722329d-3987-4d12-a78f-d4fa9305ca6b",
   "metadata": {
    "tags": []
   },
   "source": [
    "## Simply put\n",
    "### SMRT allows you to simulate measurements of radar or radiometer from snow and or ice properties.\n",
    "\n",
    "<img src = \"SWE_retrieval_SMRT.png\" width =900>\n",
    "\n",
    "***\n",
    "<br>"
   ]
  },
  {
   "cell_type": "markdown",
   "metadata": {},
   "source": [
    "#### Radar and Snow!\n",
    "\n",
    "$ \\sigma_{tot}^{pq} =  \\sigma_{vol}^{pq} + \\sigma_{bg}^{pq} +\\sigma_{interface}^{pq}$\n",
    "\n",
    "for a particular polarisation state (pq)\n",
    "\n",
    "<img src=\"backscatter_interaction_Tsangetal2022.png\">\n",
    "\n",
    "<br><br>\n",
    "Tsang et al 2022 doi :  https://doi.org/10.5194/tc-16-3531-2022\n",
    "\n",
    "\n",
    "- Snow generates volume scattering from snow grains. Snow is represented as a medium of ice/air (microstructure).\n",
    "- The background also generates a strong return in backscatter. We need to account for it by estimating the soil permittivity and roughness.\n",
    "- Backscatter from the reflection of interface is minimal. It is the strongest at the air-snow layer because of the permittivity change ($\\varepsilon_{snow} \\approx  1.6$)\n",
    "\n",
    "<br>\n",
    "wise word for Ghislain Picard (SMRT git hub page)\n",
    "\n",
    "- Backscatter of a snowpack with flat surface is only due to the grains/ice nodules (assuming no underlying soil or rough ice). A rough surface has usually little impact for dry snowpack because the permittivity of light snow is not large (~1.6).\n",
    "- Adding water near the surface increases (a lot) the absorption, so the wave penetrates less -> less scattering -> less backscatter. If snow get wet, not only the absorption increases, but also the refractive index (see Fig 1 https://doi.org/10.5194/tc-2022-85). Backscatter from the surface increases as a function of the liquid water content of the superficial layers (say a few centimeters). This is what is observed for soil.\n",
    "\n",
    "***\n",
    "#### Polarisations\n",
    "\n",
    "for a particular polarisation state (pq) (e.g $\\sigma_{vol}^{VH}$, emmited = vertical, received = horizontal)\n",
    "\n",
    "##### Co-polarisation\n",
    "- VV : vertical polarisations - sensitive to vertical structure or bulk properties of the snowpack\n",
    "- HH : Horizontal polarisations - sensitive to horizontal structure like ice lense and layering.\n",
    "\n",
    "##### Cross-polarisation (X-pol)\n",
    "- VH or HV: when emmitted differs from the received polarisations - sensitive to depolarisation of the waves (volume scattering and snow anisotropy)\n",
    "\n",
    "#### TSMM will use VV and VH pol\n",
    "\n",
    "***"
   ]
  },
  {
   "cell_type": "markdown",
   "metadata": {},
   "source": [
    "### SMRT use the DORT solver yo solve the radiative transfer equation (RTE) through all layers\n",
    "\n",
    "#### RTE:\n",
    "$ \\large \\mu \\frac{\\partial \\mathbf{I}(\\mu,\\phi,z)}{\\partial_z} = -\\kappa_e(\\mu,\\phi,z)\\mathbf{I}(\\mu,\\phi,z)+ \\frac{1}{4\\pi} \\iint_{4\\pi}P(\\mu,\\phi;\\mu',\\phi',z)\\mathbf{I}(\\mu',\\phi',z)d\\Omega'+\\kappa_a(\\mu,\\phi,z)\\alpha T(z)1$\n",
    "<br><br>\n",
    "<br>\n",
    "<img src=\"Multilayered-medium_SMRT.jpg\">\n",
    "<br>\n",
    "\n",
    "### Final output is $T_B$ or $\\sigma^0$ with polarisation H and V\n",
    "***"
   ]
  },
  {
   "cell_type": "markdown",
   "id": "6fd1ae25-8fb8-472f-af65-adf58944f593",
   "metadata": {},
   "source": [
    "### Snowpack Data or inputs\n",
    "\n",
    "- Multi layered snowpack (density, temperature, ...)\n",
    "\n",
    "\n",
    "<img src=\"SMRT.png\" width = 700>\n",
    "\n",
    "\n",
    "### Electromagnetic model\n",
    "#### Yields ka, ks and effective permittivity for EM theory and microstructure model.\n",
    "\n",
    "\n",
    "- Dense Media Radiative Transfer (DMRT) : for example, using DMRT, represents the microstructure as aggregates of ice spheres in air are represented in each snow layers using the equivalent diameter = $D_{0}$  and stickiness ($\\tau$).\n",
    "<br><br>\n",
    "$ \\large D_{0} = \\frac{6}{SSA \\rho_i} $\n",
    "<br><br>\n",
    "- Improved Born Approximation (IBA) : represents snow layer in a random two phase ice/air medium. \n",
    "- ACF of the medium can be assumed to be exponential but you don't have to! Numerous microstructure (or ACF) can be used with IBA, even dense media. \n",
    "- One easy way would be to define the correlation length (porod length) of the snow microstructure with the debye equation using the snow density $\\rho_s$ and the SSA.\n",
    "<br><br>\n",
    "$ \\large l_c = \\kappa \\frac{4(1-\\phi_i)}{\\rho_i SSA} $\n",
    "<br><br>\n",
    "where the volume fraction is define as such $ \\phi_i = \\rho_s/\\rho_i$.\n",
    "<br><br>\n",
    "Sometimes, an empirical factor ($\\kappa$) called the debye factor is used to adjust the scattering depending on frequency and region but we should avoid this in the future!!\n",
    "<br><br>\n",
    "check this great article https://agupubs.onlinelibrary.wiley.com/doi/10.1029/2021AV000630\n",
    "\n",
    "#### Polydispersity \n",
    "We redefine $l_c$ --> $l_{MW}$  <br><br>\n",
    "$l_{MW}$ = $K_{medium}$ × $l_{(p,medium)}$ <br><br>\n",
    "\n",
    "The goal would be to provide polydispersity from grain type\n",
    "\n",
    "***\n",
    "\n",
    "For this tutorial <br>\n",
    "We will use IBA with exponential microstructure and polydispersity = 1\n",
    "\n",
    "***"
   ]
  },
  {
   "cell_type": "markdown",
   "id": "98f3576a-f049-4aff-ab9f-f2e91d8936cd",
   "metadata": {},
   "source": [
    "#### Even with all this complexity, SMRT can be easy and simple to use."
   ]
  },
  {
   "cell_type": "code",
   "execution_count": null,
   "id": "0721b98a-55bf-4870-a371-2c3ef2c7b6b3",
   "metadata": {},
   "outputs": [],
   "source": [
    "from smrt import make_snowpack, make_model, sensor_list\n",
    "from smrt.utils import dB\n",
    "\n",
    "#prepare inputs in SI\n",
    "thick = [100] #m\n",
    "corr_length = [8e-5] # 80 microns\n",
    "temperature = [270] # kelvin\n",
    "density = [320] #kg/m^3\n",
    "\n",
    "#create the snowpack\n",
    "snowpack = make_snowpack(thickness = thick,\n",
    "                         microstructure_model = \"exponential\",\n",
    "                         density = density,\n",
    "                         temperature = temperature,\n",
    "                         corr_length = corr_length)\n",
    "\n",
    "#create the sensor\n",
    "#set frequency to 17.25 GHz and incident angle to 35\n",
    "radar = sensor_list.active(17.25e9, 35)\n",
    "\n",
    "#create the model\n",
    "m = make_model(\"iba\", \"dort\")\n",
    "\n",
    "#run the model\n",
    "result = m.run(radar, snowpack)\n",
    "\n",
    "#outputs\n",
    "print(f' sig VV = {result.sigmaVV()}, sig HH = {result.sigmaHH()}')\n",
    "print(f' sig VV = {dB(result.sigmaVV())}, sig HH = {dB(result.sigmaHH())}')"
   ]
  },
  {
   "cell_type": "markdown",
   "id": "50deacad-79fd-4877-b176-8e92ed6315fb",
   "metadata": {},
   "source": [
    "### SMRT also allows you to set a substrate and atmosphere along with your snowpack\n",
    "\n",
    "<img src=\"atmo_substrat_smrt.png\" width=\"400\">"
   ]
  },
  {
   "cell_type": "markdown",
   "id": "6e2300e3-18da-4562-9a26-627f51bad66a",
   "metadata": {},
   "source": [
    "### Other cool stuff\n",
    "- liquid water\n",
    "- saline snow\n",
    "- sea ice (FYI and MYI)\n",
    "- rough surface and interface of layers\n",
    "- new sensor -> Radar altimetery which adds a time dependent RTE solver"
   ]
  },
  {
   "cell_type": "markdown",
   "id": "cffb6e24-c44d-45d3-8048-e36e186792e1",
   "metadata": {
    "tags": []
   },
   "source": [
    "### More info\n",
    "\n",
    "- Documentation : \n",
    "https://smrt-model.science/documentation.html\n",
    "\n",
    "- API Documentation :\n",
    "https://smrt.readthedocs.io/en/master/index.html\n",
    "\n",
    "- Github page : \n",
    "https://github.com/smrt-model\n",
    "\n",
    "- Reference paper : \n",
    "https://gmd.copernicus.org/articles/11/2763/2018/gmd-11-2763-2018.html\n",
    "\n",
    "***"
   ]
  },
  {
   "cell_type": "markdown",
   "id": "1baf557a-0b22-408b-b4af-d70310645453",
   "metadata": {},
   "source": [
    "# How to install SMRT"
   ]
  },
  {
   "cell_type": "markdown",
   "id": "3b4529b0-a34c-4088-ab70-01e3b4779c89",
   "metadata": {},
   "source": [
    "### Install Python and dependencies\n",
    "#### Easiest with Anaconda\n",
    "SMRT is developed with the highest stable version of Python but also work with python 2.7 series and 3.4 or higher. Anaconda is the recommended distribution to get Python as it contains numerous packages needed for scientific computations and analysis. This is an open source distribution available for Linux, Windows and MacOS."
   ]
  },
  {
   "cell_type": "markdown",
   "id": "f62c2922-96d3-486e-a9e2-4f20ba5c9e6c",
   "metadata": {},
   "source": [
    "In the anaconda prompt ... <br><br>\n",
    "create an virtual environment for SMRT\n",
    "```console\n",
    "conda create --name smrt\n",
    "```\n",
    "then activate your env\n",
    "```console\n",
    "conda activate smrt\n",
    "```\n",
    "install dependencies\n",
    "```console\n",
    "conda install numpy scipy xarray pandas six \n",
    "```"
   ]
  },
  {
   "cell_type": "markdown",
   "id": "a450433e-bbbe-4b75-99af-33484b4a84a7",
   "metadata": {},
   "source": [
    "### You have two option to install SMRT...\n",
    "#### Not recommended because not up to date. SMRT is in constant developpement.\n",
    "#### 1. Using pip install from pypi.org:  https://pypi.org/project/smrt/#description\n",
    "\n",
    "install pip in your env\n",
    "```console\n",
    "conda install pip\n",
    "```\n",
    "install smrt with pip\n",
    "```console\n",
    "pip install smrt\n",
    "```\n",
    "\n",
    "#### 2. Best way is to clone the SMRT repo from github.\n",
    "Make sure git is install on your computer (usually already install on ubuntu)\n",
    "\n",
    "If not, I like git bash on windows; check to install on your machine https://git-scm.com/download/win\n",
    "\n",
    "Open a git bash terminal, run this command where you want smrt to clone the repo.\n",
    "##### Github page : https://github.com/smrt-model\n",
    "\n",
    "```console\n",
    "git clone https://github.com/smrt-model/smrt.git\n",
    "```\n",
    "##### Optional : Clone smrt tutorials for some exercices!\n",
    "```console\n",
    "git clone https://github.com/smrt-model/tutorials.git\n",
    "```\n",
    "\n",
    "Check the directory of SMRT\n",
    "```console\n",
    "cd smrt\n",
    "pwd\n",
    "```\n",
    "You can go back to this directory to make sure you are up to date new changes in SMRT. <br>\n",
    "Run this command\n",
    "```console\n",
    "git pull\n",
    "```\n",
    "\n",
    "Now you add to specify to python the path to smrt\n",
    "##### Linux\n",
    "add this to your ~/.bashrc file\n",
    "```console\n",
    "PYTHONPATH=$PYTHONPATH:/the/full/path/to/smrt\n",
    "```\n",
    "\n",
    "##### Windows\n",
    "1. Go to settings, search for 'edit the system environment variables'\n",
    "2. Click on 'Environment Variables'\n",
    "3. Create new system variable\n",
    "4. Name it PYTHONPATH\n",
    "5. Enter or browse to the path to your SMRT directory\n",
    "\n",
    "\n",
    "## Try to import SMRT in python now!!\n",
    "***"
   ]
  },
  {
   "cell_type": "markdown",
   "id": "e8054c57-f951-432a-9aed-7342b166d23b",
   "metadata": {},
   "source": [
    "### First, lets simulate backscatter and brigthness temperature for different angles"
   ]
  },
  {
   "cell_type": "code",
   "execution_count": null,
   "id": "65d43f48-c294-43c2-85e8-7f4c6224c0d2",
   "metadata": {},
   "outputs": [],
   "source": [
    "#import library we need for processing\n",
    "import numpy as np\n",
    "import matplotlib.pyplot as plt\n",
    "import pandas as pd\n",
    "\n",
    "#import smrt function that are needed\n",
    "from smrt import make_model, make_snowpack, make_soil, sensor_list\n",
    "from smrt.utils import dB"
   ]
  },
  {
   "cell_type": "code",
   "execution_count": null,
   "id": "54a52406-b4cb-4ff6-8647-cae7c43b6c30",
   "metadata": {},
   "outputs": [],
   "source": [
    "#prepare inputs in SI\n",
    "thick = [0.5, 1] \n",
    "corr_length = [2e-4, 5e-5]\n",
    "temperature = [270, 268] \n",
    "density = [280, 400] #kg/m^3\n",
    "\n",
    "#add frozen soil\n",
    "soil = make_soil('geometrical_optics', complex(2,0.005), temperature = 265, mean_square_slope = 0.011)\n",
    "\n",
    "#create the snowpack\n",
    "snowpack = make_snowpack(thickness = thick,\n",
    "                         microstructure_model = \"exponential\",\n",
    "                         density = density,\n",
    "                         temperature = temperature,\n",
    "                         corr_length = corr_length,\n",
    "                         substrate = soil)\n",
    "snowpack"
   ]
  },
  {
   "cell_type": "code",
   "execution_count": null,
   "id": "73d710ba-acf7-4e90-aeac-985cd759a3a6",
   "metadata": {},
   "outputs": [],
   "source": [
    "# prepare a list for theta from  10 to 70 by step of 5\n",
    "theta = np.arange(10,70,5)\n",
    "\n",
    "# prepare one sensor at 17.5 GHz\n",
    "radar = sensor_list.active(17.5e9, theta)\n",
    "\n",
    "\n",
    "# prepare the model and run it successively for each sensor\n",
    "m = make_model(\"iba\", \"dort\")\n",
    "res = m.run(radar, snowpack)"
   ]
  },
  {
   "cell_type": "code",
   "execution_count": null,
   "id": "a7f08848-a0d7-4483-9085-915dc484c093",
   "metadata": {},
   "outputs": [],
   "source": [
    "# results are xarray!\n",
    "res.sigmaVV()"
   ]
  },
  {
   "cell_type": "code",
   "execution_count": null,
   "id": "33440f03-6e5b-4fd2-8fda-3e30635fac0a",
   "metadata": {},
   "outputs": [],
   "source": [
    "#result has a dimension theta because we provided a list of of angles\n",
    "res.sigmaVV()"
   ]
  },
  {
   "cell_type": "code",
   "execution_count": null,
   "metadata": {},
   "outputs": [],
   "source": [
    "#Same for passive\n",
    "#add frozen soil\n",
    "soil = make_soil('soil_wegmuller', complex(3,0.005), temperature = 265, roughness_rms = 0.017)\n",
    "\n",
    "#create the snowpack\n",
    "snowpack = make_snowpack(thickness = thick,\n",
    "                         microstructure_model = \"exponential\",\n",
    "                         density = density,\n",
    "                         temperature = temperature,\n",
    "                         corr_length = corr_length,\n",
    "                         substrate = soil)\n",
    "\n",
    "# prepare one sensor at 37 GHz\n",
    "radiometer = sensor_list.passive(37e9, theta)\n",
    "\n",
    "# prepare the model and run it successively for each sensor\n",
    "m = make_model(\"iba\", \"dort\")\n",
    "res_p = m.run(radiometer, snowpack)\n",
    "\n",
    "res_p.TbV()"
   ]
  },
  {
   "cell_type": "code",
   "execution_count": null,
   "id": "325dcb82-1fcc-40dc-b686-2f3576bd2fda",
   "metadata": {},
   "outputs": [],
   "source": [
    "#lets do a plot\n",
    "fig, (ax1, ax2) = plt.subplots(1, 2,figsize = (12,4))\n",
    "plt.rcParams.update({'font.size': 14})\n",
    "ax1.ticklabel_format(axis='both', style='sci', scilimits=(0,2))\n",
    "ax1.plot(theta, dB(res.sigmaVV()), 'k-',label = 'VV')\n",
    "ax1.plot(theta, dB(res.sigmaHH()), 'r:',label = 'HH')\n",
    "ax1.set_ylabel('$\\sigma^0 (dB)$')\n",
    "ax1.set_xlabel(\"$\\\\theta$\")\n",
    "ax1.legend(loc = 3)\n",
    "\n",
    "\n",
    "ax2.plot(theta, res_p.TbV(), label = 'TbV')\n",
    "ax2.plot(theta, res_p.TbH(), label = 'TbH')\n",
    "ax2.set_ylabel('$T_B$ (K)')\n",
    "ax2.set_xlabel('$\\\\theta$')\n",
    "ax2.legend()"
   ]
  },
  {
   "cell_type": "markdown",
   "id": "0cd498c1-41be-44ff-bafe-4e6aad15264d",
   "metadata": {},
   "source": [
    "***\n",
    "### Sensitivity study of snow parameters on $\\sigma^0$"
   ]
  },
  {
   "cell_type": "markdown",
   "metadata": {},
   "source": [
    "##### Reminder: Equation for SSA\n",
    "#### Porod length from debye equation\n",
    "$ \\large l_c = \\kappa \\frac{4(1-\\phi_i)}{\\rho_i SSA} $\n",
    "<br><br>\n",
    "where the volume fraction is define as such $ \\phi_i = \\rho_s/\\rho_i$."
   ]
  },
  {
   "cell_type": "code",
   "execution_count": null,
   "metadata": {},
   "outputs": [],
   "source": [
    "from smrt.core.globalconstants import DENSITY_OF_ICE\n",
    "\n",
    "def ssa_to_l(ssa, density):\n",
    "    #converting SSA to correlation length\n",
    "    f = density/DENSITY_OF_ICE\n",
    "    l_d = 4 * (1-f)/(DENSITY_OF_ICE*ssa)\n",
    "    return l_d"
   ]
  },
  {
   "cell_type": "code",
   "execution_count": null,
   "id": "d7c70eb5-9416-4c2b-886d-6a0946e15cfb",
   "metadata": {},
   "outputs": [],
   "source": [
    "#set constant parameters for the study\n",
    "thick = [0.5] \n",
    "ssa = 17\n",
    "temperature = 268\n",
    "density = 320\n",
    "\n",
    "#add frozen soil\n",
    "soil = make_soil('geometrical_optics', complex(2,0.005), temperature = 265, mean_square_slope = 0.011)\n",
    "\n",
    "#set radiometer for SWE retrievals\n",
    "radar_ku = sensor_list.active([13.5e9, 17.25e9], 45)\n",
    "m = make_model(\"iba\", \"dort\")\n",
    "\n",
    "\n",
    "#sensitivity of depth\n",
    "depth_array = np.linspace(10,401,10)/100\n",
    "snowpack = [make_snowpack(thickness = [thick], microstructure_model = \"exponential\", density = density,\n",
    "                          temperature = temperature, corr_length = ssa_to_l(ssa, density), substrate = soil) for thick in depth_array]\n",
    "\n",
    "res_depth = m.run(radar_ku, snowpack)\n",
    "\n",
    "#sensitivity of temperature\n",
    "temp_array = np.linspace(260,280,10)\n",
    "snowpack = [make_snowpack(thickness = thick, microstructure_model = \"exponential\", density = density,\n",
    "                          temperature = [temp], corr_length = ssa_to_l(ssa, density), substrate = soil) for temp in temp_array]\n",
    "\n",
    "res_temp = m.run(radar_ku, snowpack)\n",
    "\n",
    "#sensitivity of density\n",
    "density_array = np.linspace(200,400,10)\n",
    "snowpack = [make_snowpack(thickness = thick, microstructure_model = \"exponential\", density = [density],\n",
    "                          temperature = temperature, corr_length = ssa_to_l(ssa, density), substrate = soil) for density in density_array]\n",
    "\n",
    "res_density = m.run(radar_ku, snowpack)\n",
    "\n",
    "#sensitivity of  SSA\n",
    "ssa_array = np.linspace(5,40,10)\n",
    "snowpack = [make_snowpack(thickness = thick, microstructure_model = \"exponential\", density = density,\n",
    "                          temperature = temperature, corr_length = ssa_to_l(ssa, density), substrate = soil) for ssa in ssa_array]\n",
    "\n",
    "res_lc = m.run(radar_ku, snowpack)"
   ]
  },
  {
   "cell_type": "markdown",
   "id": "63f35a1b-f50d-4c94-bed5-8a4c158959bb",
   "metadata": {},
   "source": [
    "### Plot the results"
   ]
  },
  {
   "cell_type": "code",
   "execution_count": null,
   "id": "25209c57-e762-4407-b608-0c616143d337",
   "metadata": {},
   "outputs": [],
   "source": [
    "#create a subfigure for each parameter studied\n",
    "fig, ((ax1, ax2), (ax3, ax4)) = plt.subplots(2, 2, figsize = (12,9), sharey = True)\n",
    "plt.rcParams.update({'font.size': 14})\n",
    "\n",
    "#plot snow depth\n",
    "ax1.plot(depth_array, dB(res_depth.sigmaVV().sel(frequency = 17.25e9)), label = '17.25 GHz')\n",
    "ax1.plot(depth_array, dB(res_depth.sigmaVV().sel(frequency = 13.5e9)), label = '13.5 GHz')\n",
    "ax1.set_xlabel('Snow depth (m)')\n",
    "ax1.set_ylabel('$\\sigma^0$ (dB) VV-pol')\n",
    "ax1.legend()\n",
    "\n",
    "#plot temperature\n",
    "ax2.plot(temp_array, dB(res_temp.sigmaVV().sel(frequency = 17.25e9)).values)\n",
    "ax2.plot(temp_array, dB(res_temp.sigmaVV().sel(frequency = 13.5e9)).values)\n",
    "ax2.set_xlabel('Snow temperature (K)')\n",
    "\n",
    "#plot density\n",
    "ax3.plot(density_array, dB(res_density.sigmaVV().sel(frequency = 17.25e9)))\n",
    "ax3.plot(density_array, dB(res_density.sigmaVV().sel(frequency = 13.5e9)))\n",
    "ax3.set_xlabel('Snow density ($kg/m^3$)')\n",
    "ax3.set_ylabel('$\\sigma^0$ (dB) VV-pol')\n",
    "\n",
    "#plot corr length\n",
    "ax4.plot(ssa_array, dB(res_lc.sigmaVV().sel(frequency = 17.25e9)).values)\n",
    "ax4.plot(ssa_array, dB(res_lc.sigmaVV().sel(frequency = 13.5e9)).values)\n",
    "ax4.set_xlabel('SSA ($kg^2 m^{-1}$)')\n",
    "\n",
    "plt.subplots_adjust(wspace = 0.1)"
   ]
  },
  {
   "cell_type": "markdown",
   "id": "fd23e9c7-f09d-4291-8628-8ed8aca4e2e3",
   "metadata": {
    "tags": []
   },
   "source": [
    "\n",
    "#####  SWE can be estimated empirically. However, the empirical relation might not hold for all snow types and conditions. This is where a radiative transfer can help to link backscatter and snow properties!!"
   ]
  },
  {
   "cell_type": "markdown",
   "id": "4e499335-bd47-4633-8ec2-a80151b5c972",
   "metadata": {},
   "source": [
    "### Add dimension to your result"
   ]
  },
  {
   "cell_type": "markdown",
   "id": "eb913606-f891-42b6-a4ea-705479f7b6c7",
   "metadata": {},
   "source": [
    "#### Let's define multiple dimensions and use the full power of xarray and pandas"
   ]
  },
  {
   "cell_type": "code",
   "execution_count": null,
   "id": "c871fcd5-ef15-49f3-868a-ea7d05fb9187",
   "metadata": {},
   "outputs": [],
   "source": [
    "#define a list of snowpack\n",
    "depth_array = np.linspace(10,201,10)/100\n",
    "ssa = 17\n",
    "temperature = 268\n",
    "density = 320\n",
    "soil = make_soil('soil_wegmuller', complex(3,0.005), temperature = 265, roughness_rms = 0.017)\n",
    "snowpack = [make_snowpack(thickness = [thick], microstructure_model = \"exponential\", density = density,\n",
    "                          temperature = temperature, corr_length = ssa_to_l(ssa, density), substrate = soil) for thick in depth_array]\n",
    "\n",
    "#sensor can have two frequency\n",
    "#use the common AMSRE satellite\n",
    "sensor = sensor_list.amsre(['19', '37'])\n",
    "\n",
    "#define dimension of the list of snowpack\n",
    "res_depth = m.run(sensor, snowpack, snowpack_dimension = ('depth', depth_array))\n",
    "res_depth.Tb()"
   ]
  },
  {
   "cell_type": "code",
   "execution_count": null,
   "metadata": {},
   "outputs": [],
   "source": [
    "\n",
    "snowpack = pd.Series([make_snowpack(thickness = [thick], microstructure_model = \"exponential\", density = density,\n",
    "                          temperature = temperature, corr_length = ssa_to_l(ssa, density), \n",
    "                          substrate = make_soil('soil_wegmuller', complex(3,0.005),\n",
    "                                                 temperature = 265, roughness_rms = 0.017)) for thick in depth_array], index = depth_array)\n",
    "\n",
    "#define dimension of the list of snowpack\n",
    "res_depth = m.run(sensor, snowpack)\n",
    "res_depth.Tb()"
   ]
  },
  {
   "cell_type": "code",
   "execution_count": null,
   "id": "348272fb-6c72-4c63-a3d0-7a95fd8f12c2",
   "metadata": {},
   "outputs": [],
   "source": [
    "#result can also be set to a dataframe\n",
    "res_depth.to_dataframe()"
   ]
  },
  {
   "cell_type": "markdown",
   "metadata": {},
   "source": [
    "## Optionnal parameters\n",
    "\n",
    " rtsolver_options = {'error_handling':'nan'}\n",
    " <br><br>"
   ]
  },
  {
   "cell_type": "code",
   "execution_count": null,
   "metadata": {},
   "outputs": [],
   "source": [
    "ssa = 0.1\n",
    "temperature = 268\n",
    "density = 320\n",
    "\n",
    "#add frozen soil\n",
    "soil = make_soil('geometrical_optics', complex(2,0.005), temperature = 265, mean_square_slope = 0.01)\n",
    "\n",
    "#set radiometer for SWE retrievals\n",
    "radar_ku = sensor_list.active([13.5e9, 17.25e9], 45)\n",
    "#m = make_model(\"iba\", \"dort\")\n",
    "m = make_model(\"iba\", \"dort\", rtsolver_options = {'error_handling':'nan'})\n",
    "\n",
    "\n",
    "#sensitivity of depth\n",
    "depth_array = np.linspace(10,401,10)/100\n",
    "snowpack = [make_snowpack(thickness = [thick], microstructure_model = \"exponential\", density = density,\n",
    "                          temperature = temperature, corr_length = ssa_to_l(ssa, density), substrate = soil) for thick in depth_array]\n",
    "\n",
    "\n",
    "res_temp = m.run(radar_ku, snowpack)"
   ]
  },
  {
   "cell_type": "code",
   "execution_count": null,
   "metadata": {},
   "outputs": [],
   "source": [
    "res_temp.sigmaVV()"
   ]
  },
  {
   "cell_type": "markdown",
   "metadata": {},
   "source": [
    "### Parallel computation\n",
    "\n",
    "#### advantage of running a multiple snowpack\n",
    "The model can be run on a list of snowpacks or even more conveniently on a pandas.Series or pandas.DataFrame including snowpacks. The first advantage is that by setting parallel_computation=True, the Model.run() method performs the simulation in parallel on all the available cores of your machine and even possibly on a high performance cluster using dask. The second advantage is that the returned Result object contains all the simulations and provide an easier way to plot the results or compute statistics.\n",
    "\n",
    "The job lib library is used to compute in parallel multiple snowpack <br>\n",
    "*** needs a list of snowpack when calling run"
   ]
  },
  {
   "cell_type": "code",
   "execution_count": null,
   "metadata": {},
   "outputs": [],
   "source": [
    "res_temp = m.run(radar_ku, snowpack, parallel_computation=True)"
   ]
  },
  {
   "cell_type": "markdown",
   "metadata": {},
   "source": [
    "### Some wise words from Ghislain Picard (developper)\n",
    "Question from user: <br>\n",
    "Do you have any plans to convert this code into C++ ?\n",
    "\n",
    "There is not plan to convert to a different language. SMRT is fast despite being written in Python. The computational bottleneck is often in the diagonalisation of matrices, which is handled very efficiently with underlying LAPACK. A Fortran / C++ code would be marginally faster."
   ]
  },
  {
   "cell_type": "markdown",
   "metadata": {},
   "source": [
    "### Exemple with real data (CROCUS)"
   ]
  },
  {
   "cell_type": "code",
   "execution_count": null,
   "metadata": {},
   "outputs": [],
   "source": [
    "import xarray as xr\n",
    "from datetime import datetime\n",
    "\n",
    "import warnings\n",
    "warnings.filterwarnings('ignore')"
   ]
  },
  {
   "cell_type": "code",
   "execution_count": null,
   "metadata": {},
   "outputs": [],
   "source": [
    "mod = xr.open_dataset('Pow_out_svs2.nc')\n",
    "\n",
    "df = mod[['SNODEN_ML','SNOMA_ML','TSNOW_ML','SNODOPT_ML','SNODP']].to_dataframe().dropna() \n",
    "# SNODEN_ML: Layer density \n",
    "# SNOMA_ML: Layer SWE\n",
    "# TSNOW_ML: Layer temperature\n",
    "# SNODOPT_ML: Layer optical diameter\n",
    "# SNODP: depth of the snowpack"
   ]
  },
  {
   "cell_type": "markdown",
   "metadata": {},
   "source": [
    "##### Recall optical diameter\n",
    "$ \\large D_{0} = \\frac{6}{SSA \\rho_i} $"
   ]
  },
  {
   "cell_type": "code",
   "execution_count": null,
   "metadata": {},
   "outputs": [],
   "source": [
    "def Do_to_ssa(Do):\n",
    "    return 6/( Do * 917)\n",
    "\n",
    "#add colums for SMRT\n",
    "\n",
    "#thickness\n",
    "df['thickness'] = df[['SNODEN_ML','SNOMA_ML']].apply(lambda x : x[1] / x[0], axis = 1) \n",
    "\n",
    "#SSA\n",
    "df['ssa'] = df['SNODOPT_ML'].apply(lambda x: Do_to_ssa(x) if x>0 else 0)\n",
    "#df['corr_length'] = df[['SNODEN_ML','ssa']].apply(lambda x: debye_eqn(x[1], x[0]), axis = 1)"
   ]
  },
  {
   "cell_type": "code",
   "execution_count": null,
   "metadata": {},
   "outputs": [],
   "source": [
    "#filter out low snowdepth and small snow layers\n",
    "df = df[(df.SNODP > 0.10) & (df.thickness > 0.005)]\n",
    "df"
   ]
  },
  {
   "cell_type": "code",
   "execution_count": null,
   "metadata": {},
   "outputs": [],
   "source": [
    "#get dates\n",
    "dates = df.groupby(level = 'time').mean().index.get_level_values(0)\n",
    "df.loc[dates[0],:]"
   ]
  },
  {
   "cell_type": "code",
   "execution_count": null,
   "metadata": {},
   "outputs": [],
   "source": [
    "def get_snowpack(snow_df):\n",
    "    #add frozen soil\n",
    "    soil = make_soil('geometrical_optics', complex(2,0.005), temperature = 265, mean_square_slope = 0.01)\n",
    "\n",
    "    #Creating the snowpack to simulate with the substrate\n",
    "    if isinstance(snow_df.thickness, np.floating):\n",
    "        thickness = [snow_df.thickness]\n",
    "    else:\n",
    "        thickness = snow_df.thickness\n",
    "        \n",
    "    sp = make_snowpack(thickness=thickness, \n",
    "                        microstructure_model='exponential',\n",
    "                        density= snow_df.SNODEN_ML,\n",
    "                        temperature= snow_df.TSNOW_ML,\n",
    "                        corr_length = ssa_to_l(snow_df.ssa, snow_df.SNODEN_ML),\n",
    "                        substrate = soil)\n",
    "    \n",
    "    return sp"
   ]
  },
  {
   "cell_type": "code",
   "execution_count": null,
   "metadata": {},
   "outputs": [],
   "source": []
  },
  {
   "cell_type": "code",
   "execution_count": null,
   "metadata": {},
   "outputs": [],
   "source": [
    "#get dates\n",
    "dates = df.groupby(level = 'time').mean().index.get_level_values(0)#\n",
    "#get total SWE per date\n",
    "SWE = df.groupby(level = 'time').sum().SNOMA_ML\n",
    "#get total snowdepth per date\n",
    "depth = df.groupby(level = 'time').mean().SNODP\n",
    "\n",
    "#create a series of snowpack object\n",
    "snowpacks = pd.Series([get_snowpack(df.loc[date,:]) for date in dates ], index = dates)\n",
    "\n",
    "#create a dataframe\n",
    "meta_df = pd.DataFrame({'depth' :depth, 'SWE': SWE, 'smrt_snow' : snowpacks}, index = dates).dropna()\n",
    "meta_df"
   ]
  },
  {
   "cell_type": "code",
   "execution_count": null,
   "metadata": {},
   "outputs": [],
   "source": [
    "#Modeling theories to use in SMRT\n",
    "model = make_model(\"symsce_torquato21\", \"dort\", rtsolver_options = {'error_handling':'nan'})\n",
    "\n",
    "sensor  = sensor_list.active(17.5e9, 35)\n",
    "\n",
    "result = model.run(sensor, meta_df, snowpack_column='smrt_snow', parallel_computation=True)\n"
   ]
  },
  {
   "cell_type": "code",
   "execution_count": null,
   "metadata": {},
   "outputs": [],
   "source": [
    "meta_df['sigVV'] = dB(result.sigmaVV())\n",
    "meta_df['sigHH'] = dB(result.sigmaHH())"
   ]
  },
  {
   "cell_type": "code",
   "execution_count": null,
   "metadata": {},
   "outputs": [],
   "source": [
    "meta_df.head()"
   ]
  },
  {
   "cell_type": "code",
   "execution_count": null,
   "metadata": {},
   "outputs": [],
   "source": [
    "fig, ax = plt.subplots(1,1, figsize = (7,5))\n",
    "ax.plot(meta_df.index, meta_df.sigVV, color = 'dodgerblue',label = 'VV', alpha = 0.5)\n",
    "ax.plot(meta_df.index, meta_df.sigHH, color = 'blue', label = 'HH', alpha = 0.5)\n",
    "ax.set_xticklabels(ax.get_xticklabels(), rotation=45, ha='right')\n",
    "ax.legend()\n",
    "ax.set_ylabel('$\\sigma^0$ (dB)')\n",
    "\n",
    "ax2=ax.twinx()\n",
    "ax2.plot(meta_df.index, meta_df.SWE, color = 'darkorange', alpha = 0.7)\n",
    "ax2.set_ylabel('SWE')\n",
    "ax2.yaxis.label.set_color('darkorange')\n",
    "ax2.tick_params(axis='y', colors='darkorange')"
   ]
  },
  {
   "cell_type": "markdown",
   "id": "ba6bfe2d-94de-4c72-8e14-a3990c58f08c",
   "metadata": {},
   "source": [
    "## (Advanced) Different flavours of SMRT\n",
    "\n",
    " The SMRT model was developed in response to increased understanding of the importance of microstructure parameterization in snow, and to enable isolation of individual model components in microwave scattering model intercomparison studies. For this, SMRT has a modular structure, which clearly separates the different steps of the calculation (permittivities of the raw materials, scattering coefficients, and solution of the radiative transfer (RT) equation) (Sandells et al. 2022)\n",
    "\n",
    "### Electromagnetic Models \n",
    "- DMRT (Dense media)\n",
    "- IBA (Improved Born Approximation)\n",
    "- symSCE (symmetrized Strong Constrast Expansion)\n",
    "\n",
    "### Microstrure models (autocorrelation function of ice/air matrix which change calculation of $k_s$)\n"
   ]
  },
  {
   "cell_type": "code",
   "execution_count": null,
   "id": "7c7d270e-24c8-4c8a-95e5-6855e44cd9ce",
   "metadata": {},
   "outputs": [],
   "source": [
    "\n",
    "#define function to get microstructure parameters from ssa\n",
    "def ssa_to_R(ssa, density):\n",
    "    #converting SSA to eq radius\n",
    "    return 3/(DENSITY_OF_ICE*ssa)\n"
   ]
  },
  {
   "cell_type": "code",
   "execution_count": null,
   "id": "4a60af3a-5b92-4a2a-a6d5-da36383af279",
   "metadata": {},
   "outputs": [],
   "source": [
    "#start from SSA, which you would get from field measurements\n",
    "ssa_array = np.arange(10, 65, 5)\n",
    "\n",
    "#set other parameters for the study\n",
    "#thick must be a list or array to infer number of layer\n",
    "thick = [0.5] \n",
    "temperature = 268 \n",
    "density = 320\n",
    "\n",
    "#add frozen soil\n",
    "soil = make_soil('soil_wegmuller', complex(3.34,0.005), temperature = 265, roughness_rms = 0.017)"
   ]
  },
  {
   "cell_type": "code",
   "execution_count": null,
   "id": "ebcb9226-b254-4c10-bfd9-ae2d71fcfd74",
   "metadata": {},
   "outputs": [],
   "source": [
    "#create sensor for amsre channel\n",
    "radio  = sensor_list.amsre('37')\n",
    "\n",
    "#set electromagnetic model\n",
    "#iba can run most of the microstructure model\n",
    "m_iba = make_model(\"iba\", \"dort\")\n",
    "#DMRT only can run SHS\n",
    "m_dmrt = make_model('dmrt_qca_shortrange', 'dort')\n",
    "#SCE strong contrast expansion (new model for high density)\n",
    "m_sce = make_model(\"sce_torquato21\", \"dort\")\n",
    "\n",
    "#set snowpack with different microstructure model\n",
    "#Microstructure exponential\n",
    "snowpack_exp = [make_snowpack(thickness = thick, microstructure_model = \"exponential\", density = density,\n",
    "                          temperature = temperature, corr_length = [ssa_to_l(ssa, density)], substrate = soil) for ssa in ssa_array]\n",
    "#Microstructure IND\n",
    "snowpack_ind = [make_snowpack(thickness = thick, microstructure_model = \"independent_sphere\", density = density,\n",
    "                          temperature = temperature, radius = [ssa_to_R(ssa, density)], substrate = soil) for ssa in ssa_array]\n",
    "#Microstructure SHS\n",
    "snowpack_shs = [make_snowpack(thickness = thick, microstructure_model = \"sticky_hard_spheres\", density = density,\n",
    "                          temperature = temperature, radius = [ssa_to_R(ssa, density)], stickiness = 0.3, substrate = soil) for ssa in ssa_array]\n",
    "\n",
    "#run result for iba EXP\n",
    "res_iba_exp = m_iba.run(radio, snowpack_exp, snowpack_dimension = ('ssa', ssa_array))\n",
    "\n",
    "#run result for iba IND\n",
    "res_iba_ind = m_iba.run(radio, snowpack_ind, snowpack_dimension = ('ssa', ssa_array))\n",
    "\n",
    "#run result for iba SHS\n",
    "res_iba_shs = m_iba.run(radio, snowpack_shs, snowpack_dimension = ('ssa', ssa_array))\n",
    "\n",
    "#run result for DMRT SHS\n",
    "res_dmrt_shs = m_dmrt.run(radio, snowpack_shs, snowpack_dimension = ('ssa', ssa_array))\n",
    "\n",
    "#run result for sce EXP\n",
    "res_sce_exp = m_sce.run(radio, snowpack_exp, snowpack_dimension = ('ssa', ssa_array))"
   ]
  },
  {
   "cell_type": "code",
   "execution_count": null,
   "id": "595ba37e-2153-4dba-bc03-d7545ce2f0a6",
   "metadata": {},
   "outputs": [],
   "source": [
    "#create a subfigure for each parameter studied\n",
    "fig = plt.figure(figsize = (8,5))\n",
    "plt.rcParams.update({'font.size': 14})\n",
    "\n",
    "#plot the results\n",
    "plt.plot(res_iba_exp.ssa, res_iba_exp.TbV(), label = 'IBA-EXP')\n",
    "plt.plot(res_iba_ind.ssa, res_iba_ind.TbV(), label = 'IBA-IND')\n",
    "plt.plot(res_iba_shs.ssa, res_iba_shs.TbV(), label = 'IBA-SHS')\n",
    "plt.plot(res_dmrt_shs.ssa, res_dmrt_shs.TbV(), label = 'DMRT-SHS')\n",
    "plt.plot(res_sce_exp.ssa, res_sce_exp.TbV(), label = 'SCE-EXP')\n",
    "plt.xlabel('SSA ($m^2/kg)$')\n",
    "plt.ylabel('$T_B$ (K)')\n",
    "plt.legend()"
   ]
  },
  {
   "cell_type": "markdown",
   "id": "2b53721c-4de6-40b1-a8eb-ae97c649d7f6",
   "metadata": {},
   "source": [
    "#### The choice of the microstructure and electromagnetic model does have an impact, especially for low SSA in this case.\n",
    "***"
   ]
  },
  {
   "cell_type": "markdown",
   "id": "226ee09f-4158-49ff-b9f7-bbca9e96634f",
   "metadata": {},
   "source": [
    "## Conclusion"
   ]
  },
  {
   "cell_type": "markdown",
   "id": "fd97e340-6731-46d4-9644-1f40b1a421b3",
   "metadata": {},
   "source": [
    "\n",
    "- Allows you to simulate measurements of snow or ice from radiometer and RADAR.\n",
    "- Comparaison between models components (electromagnetic, microstructure, ...) and unified radiative transfer modelling into one models.\n",
    "- Easy to use with python!\n",
    "\n",
    "ECCC focus:\n",
    "- allows us to estimate SWE from backscatter of dual Ku-band by using snow properties from SVS2\n",
    "\n"
   ]
  },
  {
   "cell_type": "markdown",
   "id": "78a15abb-e30b-487e-8a1c-e5918d75f16b",
   "metadata": {},
   "source": [
    "#### For more exercices... see the tutorials on the github page"
   ]
  },
  {
   "cell_type": "markdown",
   "id": "bc4142b0-4122-4a7d-a637-0672722bb8ed",
   "metadata": {
    "tags": []
   },
   "source": [
    "### More info\n",
    "\n",
    "- Documentation : \n",
    "https://smrt-model.science/documentation.html\n",
    "\n",
    "- Github page : \n",
    "https://github.com/smrt-model\n",
    "\n",
    "- Reference paper : \n",
    "https://gmd.copernicus.org/articles/11/2763/2018/gmd-11-2763-2018.html\n",
    "\n",
    "***"
   ]
  }
 ],
 "metadata": {
  "kernelspec": {
   "display_name": "Python 3 (ipykernel)",
   "language": "python",
   "name": "python3"
  },
  "language_info": {
   "codemirror_mode": {
    "name": "ipython",
    "version": 3
   },
   "file_extension": ".py",
   "mimetype": "text/x-python",
   "name": "python",
   "nbconvert_exporter": "python",
   "pygments_lexer": "ipython3",
   "version": "3.11.5"
  }
 },
 "nbformat": 4,
 "nbformat_minor": 5
}
